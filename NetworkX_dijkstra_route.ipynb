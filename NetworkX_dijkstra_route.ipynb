{
  "cells": [
    {
      "cell_type": "markdown",
      "id": "ab0ee54a",
      "metadata": {
        "id": "ab0ee54a"
      },
      "source": [
        "# Networkxライブラリによるダイクストラ法"
      ]
    },
    {
      "cell_type": "markdown",
      "id": "b0409fb0",
      "metadata": {
        "id": "b0409fb0"
      },
      "source": [
        "## インストールが必要なライブラリ"
      ]
    },
    {
      "cell_type": "code",
      "execution_count": 1,
      "id": "12846b09",
      "metadata": {
        "colab": {
          "base_uri": "https://localhost:8080/"
        },
        "id": "12846b09",
        "outputId": "8aec7e7a-47cb-4765-fcbf-f8b73470bfec"
      },
      "outputs": [
        {
          "output_type": "stream",
          "name": "stdout",
          "text": [
            "Requirement already satisfied: networkx in /usr/local/lib/python3.10/dist-packages (3.3)\n"
          ]
        }
      ],
      "source": [
        "!pip install networkx"
      ]
    },
    {
      "cell_type": "markdown",
      "id": "f7d1cfd9",
      "metadata": {
        "id": "f7d1cfd9"
      },
      "source": [
        "## ライブラリのインポート"
      ]
    },
    {
      "cell_type": "code",
      "execution_count": 2,
      "id": "4c48a635",
      "metadata": {
        "id": "4c48a635"
      },
      "outputs": [],
      "source": [
        "import networkx as nx"
      ]
    },
    {
      "cell_type": "markdown",
      "id": "74b35e4b",
      "metadata": {
        "id": "74b35e4b"
      },
      "source": [
        "## 経路の設定（１）：接続情報\n",
        "\n",
        "connect:どのノードとつながっているのか\n",
        "\n",
        "cost:ノード間のコスト（距離のようなもの）"
      ]
    },
    {
      "cell_type": "code",
      "execution_count": 3,
      "id": "1b4f63c8",
      "metadata": {
        "id": "1b4f63c8"
      },
      "outputs": [],
      "source": [
        "connect = [[1, 2], [2,  3,  4], [1, 4], [1, 4, 5], [1, 3, 5], []]\n",
        "cost = [[2, 3], [3,  1,  2], [3, 2], [1, 2, 3], [2, 2, 1], []]"
      ]
    },
    {
      "cell_type": "markdown",
      "source": [
        "## 経路の設定（２）：NetworkX用に直す\n",
        "\n",
        "最初の2つの数字：つながっているノード番号\n",
        "\n",
        "最後の数字：コスト"
      ],
      "metadata": {
        "id": "bzY24gpDl_gU"
      },
      "id": "bzY24gpDl_gU"
    },
    {
      "cell_type": "code",
      "source": [
        "weight_route = []\n",
        "\n",
        "for i1,i2 in enumerate(connect):\n",
        "  for j1,j2 in enumerate(i2):\n",
        "    print(i1,j2,cost[i1][j1])\n",
        "    weight_route.append((i1,j2,cost[i1][j1]))"
      ],
      "metadata": {
        "colab": {
          "base_uri": "https://localhost:8080/"
        },
        "id": "89JoFOQkl_mN",
        "outputId": "881942c9-9a15-4f28-fdab-f7ca011c2a61"
      },
      "id": "89JoFOQkl_mN",
      "execution_count": 4,
      "outputs": [
        {
          "output_type": "stream",
          "name": "stdout",
          "text": [
            "0 1 2\n",
            "0 2 3\n",
            "1 2 3\n",
            "1 3 1\n",
            "1 4 2\n",
            "2 1 3\n",
            "2 4 2\n",
            "3 1 1\n",
            "3 4 2\n",
            "3 5 3\n",
            "4 1 2\n",
            "4 3 2\n",
            "4 5 1\n"
          ]
        }
      ]
    },
    {
      "cell_type": "markdown",
      "id": "8b0d31d2",
      "metadata": {
        "id": "8b0d31d2"
      },
      "source": [
        "## スタートとゴールの設定\n",
        "\n",
        "source:スタート、destination:ゴール"
      ]
    },
    {
      "cell_type": "code",
      "execution_count": 5,
      "id": "5de7b65e",
      "metadata": {
        "id": "5de7b65e"
      },
      "outputs": [],
      "source": [
        "source = 0\n",
        "destination = 5"
      ]
    },
    {
      "cell_type": "markdown",
      "id": "85e31f8b",
      "metadata": {
        "id": "85e31f8b"
      },
      "source": [
        "## ダイクストラ法により経路を求める"
      ]
    },
    {
      "cell_type": "code",
      "execution_count": 21,
      "id": "f6c024e9",
      "metadata": {
        "id": "f6c024e9"
      },
      "outputs": [],
      "source": [
        "#G = nx.MultiDiGraph()\n",
        "G = nx.Graph()#これでも計算できる\n",
        "G.add_weighted_edges_from(weight_route)\n",
        "dijkstra_path = nx.dijkstra_path(G, source, destination)\n",
        "dijkstra_cost = nx.dijkstra_path_length(G, source, destination)"
      ]
    },
    {
      "cell_type": "markdown",
      "source": [
        "## 求めた経路と合計コスト"
      ],
      "metadata": {
        "id": "1f2XEiJPmwQp"
      },
      "id": "1f2XEiJPmwQp"
    },
    {
      "cell_type": "code",
      "source": [
        "print(f\"path: {dijkstra_path}, cost: {dijkstra_cost}\")"
      ],
      "metadata": {
        "colab": {
          "base_uri": "https://localhost:8080/"
        },
        "id": "zkpqV2C8f516",
        "outputId": "01c503de-69c4-44b7-f50d-6d5aa7d90f54"
      },
      "id": "zkpqV2C8f516",
      "execution_count": 22,
      "outputs": [
        {
          "output_type": "stream",
          "name": "stdout",
          "text": [
            "path: [0, 1, 4, 5], cost: 5\n"
          ]
        }
      ]
    },
    {
      "cell_type": "markdown",
      "source": [
        "## 以下、可視化するための処理\n",
        "\n",
        "たどった経路の線を太くするためのデータ作成"
      ],
      "metadata": {
        "id": "Hq7aIFhRm2-g"
      },
      "id": "Hq7aIFhRm2-g"
    },
    {
      "cell_type": "code",
      "source": [
        "edge_weights = []\n",
        "edge_flag = False\n",
        "for i in G.edges:\n",
        "  edge_flag = False\n",
        "  for j in range(len(dijkstra_path)-1):\n",
        "    if dijkstra_path[j]==i[0] and dijkstra_path[j+1]==i[1]:\n",
        "      edge_flag=True\n",
        "      break\n",
        "  if edge_flag==True:\n",
        "    edge_weights.append(2)\n",
        "  else:\n",
        "    edge_weights.append(0.2)"
      ],
      "metadata": {
        "id": "z5jlHCE5pmi6"
      },
      "id": "z5jlHCE5pmi6",
      "execution_count": 29,
      "outputs": []
    },
    {
      "cell_type": "markdown",
      "source": [
        "可視化"
      ],
      "metadata": {
        "id": "22TuF5lgtz9y"
      },
      "id": "22TuF5lgtz9y"
    },
    {
      "cell_type": "code",
      "source": [
        "pos = nx.kamada_kawai_layout(G)\n",
        "labels = nx.get_edge_attributes(G,'weight')\n",
        "nx.draw_networkx_edge_labels(G,pos, edge_labels = labels)\n",
        "nx.draw_networkx(G, pos, with_labels=True, node_size=300, node_color=\"grey\", width=edge_weights, alpha=0.5)"
      ],
      "metadata": {
        "colab": {
          "base_uri": "https://localhost:8080/",
          "height": 406
        },
        "id": "Io_szEUxf8G2",
        "outputId": "956b1fe7-9dca-415c-cc47-c5dbe36ec0ae"
      },
      "id": "Io_szEUxf8G2",
      "execution_count": 30,
      "outputs": [
        {
          "output_type": "display_data",
          "data": {
            "text/plain": [
              "<Figure size 640x480 with 1 Axes>"
            ],
            "image/png": "[encoded data removed]"
          },
          "metadata": {}
        }
      ]
    },
    {
      "cell_type": "code",
      "source": [],
      "metadata": {
        "id": "RZrfRsoqsVbn"
      },
      "id": "RZrfRsoqsVbn",
      "execution_count": null,
      "outputs": []
    }
  ],
  "metadata": {
    "colab": {
      "provenance": []
    },
    "kernelspec": {
      "display_name": "Python 3 (ipykernel)",
      "language": "python",
      "name": "python3"
    },
    "language_info": {
      "codemirror_mode": {
        "name": "ipython",
        "version": 3
      },
      "file_extension": ".py",
      "mimetype": "text/x-python",
      "name": "python",
      "nbconvert_exporter": "python",
      "pygments_lexer": "ipython3",
      "version": "3.8.13"
    }
  },
  "nbformat": 4,
  "nbformat_minor": 5
}